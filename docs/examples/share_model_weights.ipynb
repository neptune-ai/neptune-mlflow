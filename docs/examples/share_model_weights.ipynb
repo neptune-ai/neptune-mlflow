{
 "cells": [
  {
   "cell_type": "markdown",
   "metadata": {},
   "source": [
    "# Share model weights\n",
    "## Train your model"
   ]
  },
  {
   "cell_type": "code",
   "execution_count": null,
   "metadata": {},
   "outputs": [],
   "source": [
    "import tensorflow as tf\n",
    "import mlflow\n",
    "\n",
    "PARAMS = {\n",
    "    'epoch_nr': 5,\n",
    "    'batch_size': 256,\n",
    "    'lr': 0.1,\n",
    "    'momentum': 0.9,\n",
    "    'use_nesterov': True,\n",
    "    'unit_nr': 512,\n",
    "    'dropout': 0.25\n",
    "}\n",
    "\n",
    "with mlflow.start_run():\n",
    "    mnist = tf.keras.datasets.mnist\n",
    "    (x_train, y_train),(x_test, y_test) = mnist.load_data()\n",
    "    x_train, x_test = x_train / 255.0, x_test / 255.0\n",
    "\n",
    "    model = tf.keras.models.Sequential([\n",
    "      tf.keras.layers.Flatten(),\n",
    "      tf.keras.layers.Dense(PARAMS['unit_nr'], activation=tf.nn.relu),\n",
    "      tf.keras.layers.Dropout(PARAMS['dropout']),\n",
    "      tf.keras.layers.Dense(10, activation=tf.nn.softmax)\n",
    "    ])\n",
    "\n",
    "    optimizer = tf.keras.optimizers.SGD(lr=PARAMS['lr'],\n",
    "                                        momentum=PARAMS['momentum'],\n",
    "                                        nesterov=PARAMS['use_nesterov'],)\n",
    "\n",
    "    model.compile(optimizer=optimizer,\n",
    "                  loss='sparse_categorical_crossentropy',\n",
    "                  metrics=['accuracy'])\n",
    "\n",
    "    model.fit(x_train, y_train, \n",
    "              epochs=PARAMS['epoch_nr'], \n",
    "              batch_size=PARAMS['batch_size'])"
   ]
  },
  {
   "cell_type": "markdown",
   "metadata": {},
   "source": [
    "## Log artifact\n",
    "Log your model weights as artifact to `mlflow`"
   ]
  },
  {
   "cell_type": "code",
   "execution_count": null,
   "metadata": {},
   "outputs": [],
   "source": [
    "    model.save('my_model.h5')\n",
    "    mlflow.log_artifact('my_model.h5')"
   ]
  },
  {
   "cell_type": "markdown",
   "metadata": {},
   "source": [
    "## Sync mlruns with Neptune\n",
    "You can now sync your `mlruns` directory with Neptune.\n",
    "\n",
    "```bash\n",
    "neptune mlflow --project USER_NAME/PROJECT_NAME\n",
    "```\n",
    "\n",
    "and be able to share [your experiments artifacts](https://ui.neptune.ml/jakub-czakon/mlflow-integration/experiments) :\n",
    "\n",
    "![image2](https://gist.githubusercontent.com/jakubczakon/f754769a39ea6b8fa9728ede49b9165c/raw/2b3989499b90a93e75208d9f9df5fa537b82b7fd/mlflow_artifact.png)"
   ]
  },
  {
   "cell_type": "code",
   "execution_count": null,
   "metadata": {},
   "outputs": [],
   "source": []
  }
 ],
 "metadata": {
  "kernelspec": {
   "display_name": "scraping",
   "language": "python",
   "name": "python3"
  },
  "language_info": {
   "codemirror_mode": {
    "name": "ipython",
    "version": 3
   },
   "file_extension": ".py",
   "mimetype": "text/x-python",
   "name": "python",
   "nbconvert_exporter": "python",
   "pygments_lexer": "ipython3",
   "version": "3.6.8"
  }
 },
 "nbformat": 4,
 "nbformat_minor": 2
}
